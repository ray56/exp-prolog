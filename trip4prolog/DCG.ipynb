{
 "cells": [
  {
   "cell_type": "code",
   "execution_count": 5,
   "metadata": {
    "collapsed": false
   },
   "outputs": [
    {
     "name": "stdout",
     "output_type": "stream",
     "text": [
      "SWI-Prolog version 7.4.0-rc2 for amd64\r\n"
     ]
    }
   ],
   "source": [
    "! swipl --version"
   ]
  },
  {
   "cell_type": "markdown",
   "metadata": {},
   "source": [
    "* <a href=\"https://www.wikiwand.com/zh-hans/%E6%B1%89%E8%AF%BA%E5%A1%94\">汉诺塔 - Wikiwand</a>\n",
    "* <a href=\"https://www.wikiwand.com/en/Tower_of_Hanoi\">Tower of Hanoi - Wikiwand</a>\n",
    "\n",
    "http://hyry.dip.jp/tech/book/page/prolog/simple_hanoi.html"
   ]
  },
  {
   "cell_type": "markdown",
   "metadata": {},
   "source": [
    "# DCG"
   ]
  },
  {
   "cell_type": "code",
   "execution_count": 22,
   "metadata": {
    "collapsed": false
   },
   "outputs": [
    {
     "name": "stdout",
     "output_type": "stream",
     "text": [
      "Overwriting /tmp/tmp.pro\n"
     ]
    }
   ],
   "source": [
    "%%writefile /tmp/tmp.pro\n",
    "\n",
    "as --> [].\n",
    "as --> [a], as.\n"
   ]
  },
  {
   "cell_type": "code",
   "execution_count": 29,
   "metadata": {
    "collapsed": false
   },
   "outputs": [
    {
     "name": "stdout",
     "output_type": "stream",
     "text": [
      "Overwriting /tmp/tmp.pro\n"
     ]
    }
   ],
   "source": [
    "%%writefile /tmp/tmp.pro\n",
    "\n",
    "article_phrase --> (\"a\" ; \"an\"),\n",
    "\t\" \",\n",
    "\tnoun.\n",
    "\n",
    "noun --> ['book'].\n",
    "noun --> \"car\"."
   ]
  },
  {
   "cell_type": "code",
   "execution_count": null,
   "metadata": {
    "collapsed": true
   },
   "outputs": [],
   "source": [
    "-? phrase(as, Ls).\n",
    "    \n",
    "?- phrase(as, [a,a,a])."
   ]
  },
  {
   "cell_type": "code",
   "execution_count": 23,
   "metadata": {
    "collapsed": false
   },
   "outputs": [
    {
     "name": "stdout",
     "output_type": "stream",
     "text": [
      "\n"
     ]
    }
   ],
   "source": [
    "%%bash\n",
    "swipl -q -s /tmp/tmp.pro \n"
   ]
  }
 ],
 "metadata": {
  "kernelspec": {
   "display_name": "Python 3",
   "language": "python",
   "name": "python3"
  },
  "language_info": {
   "codemirror_mode": {
    "name": "ipython",
    "version": 3
   },
   "file_extension": ".py",
   "mimetype": "text/x-python",
   "name": "python",
   "nbconvert_exporter": "python",
   "pygments_lexer": "ipython3",
   "version": "3.6.0"
  }
 },
 "nbformat": 4,
 "nbformat_minor": 2
}
