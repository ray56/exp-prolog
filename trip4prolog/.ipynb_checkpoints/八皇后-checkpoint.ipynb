{
 "cells": [
  {
   "cell_type": "markdown",
   "metadata": {},
   "source": [
    "* <a href=\"https://www.wikiwand.com/zh-hans/%E5%85%AB%E7%9A%87%E5%90%8E%E9%97%AE%E9%A2%98\">八皇后问题 - Wikiwand</a>\n",
    "\n",
    "八个皇后在8x8棋盘上共有4,426,165,368（64C8）种摆放方法，但只有92个互不相同的解。如果将旋转和对称的解归为一种的话，则一共有12个独立解。"
   ]
  },
  {
   "cell_type": "markdown",
   "metadata": {},
   "source": [
    "# 八皇后/题解方案一\n"
   ]
  },
  {
   "cell_type": "code",
   "execution_count": 20,
   "metadata": {
    "collapsed": false
   },
   "outputs": [
    {
     "name": "stdout",
     "output_type": "stream",
     "text": [
      "Overwriting /tmp/tmp.pro\n"
     ]
    }
   ],
   "source": [
    "%%writefile /tmp/tmp.pro\n",
    ":- use_module(library(clpfd)).\n",
    "\n",
    "add([],[],[]).\n",
    "add([H1|T1],[H2|T2],[H3|T3]):- H3 is H1 + H2, add(T1,T2,T3).\n",
    "\n",
    "minus([],[],[]).\n",
    "minus([H|T],[H1|T1],[H2|T2]):- H2 is H - H1, minus(T,T1,T2).\n",
    "\n",
    "% remove( [1,2,3], 2, [1,3])\n",
    "remove([X],X,[] ).\n",
    "remove([L1H|L1T], Item, [L2H|L2T]) :- L1H = Item, L1T = [L2H|L2T] .\n",
    "remove([L1H|L1T], Item, [L2H|L2T]) :- L1H = L2H, remove(L1T, Item, L2T) .\n",
    "\n",
    "\n",
    "    \n",
    "p([],[]).\n",
    "p([XH|XT],Y) :-  remove(Y, XH, Y_new), p( XT, Y_new) .\n",
    "  \n",
    "\n",
    "p2([],[]).\n",
    "p2([XH|XT],[YH|YT]) :- XH = YH, p2(XT,YT).\n",
    "p2([XH|XT],[YH|YT]) :- XH \\= YH, shift([XH|XT],X_new), p2(X_new,[YH|YT]).\n",
    "    \n",
    "shift([],[]).\n",
    "shift([XH|XT],Y) :-  append(XT,[XH],Y).\n",
    "\n",
    "% 列表的每个元素各不相同。\n",
    "%distinguish([LH|LT]) := \n",
    "    \n",
    "e(X,Y):- e\n",
    "    X = [1,2,3,4,5,6,7,8], \n",
    "    permutation( Y,[1,2,3,4,5,6,7,8]), \n",
    "\n",
    "    add(X,Y,Z),  list_to_set( Z, ZSet), length(ZSet, ZSetL), length(Z, ZSetL),\n",
    "    minus(X,Y,D),list_to_set( D, DSet), length(DSet, DSetL), length(D, DSetL),\n",
    "    nl,write(X),nl,write(Y),\n",
    "    nl.\n"
   ]
  },
  {
   "cell_type": "code",
   "execution_count": 10,
   "metadata": {
    "collapsed": false
   },
   "outputs": [
    {
     "name": "stdout",
     "output_type": "stream",
     "text": [
      "\n",
      "[1,2,3,4,5,6,7,8]\n",
      "[1,7,5,8,2,4,6,3]\n"
     ]
    }
   ],
   "source": [
    "%%bash\n",
    "swipl -s /tmp/tmp.pro  -g 'e(X,Y)' -t halt"
   ]
  }
 ],
 "metadata": {
  "kernelspec": {
   "display_name": "Python 3",
   "language": "python",
   "name": "python3"
  },
  "language_info": {
   "codemirror_mode": {
    "name": "ipython",
    "version": 3
   },
   "file_extension": ".py",
   "mimetype": "text/x-python",
   "name": "python",
   "nbconvert_exporter": "python",
   "pygments_lexer": "ipython3",
   "version": "3.6.0"
  }
 },
 "nbformat": 4,
 "nbformat_minor": 2
}
