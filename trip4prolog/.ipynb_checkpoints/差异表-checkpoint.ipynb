{
 "cells": [
  {
   "cell_type": "markdown",
   "metadata": {},
   "source": []
  },
  {
   "cell_type": "markdown",
   "metadata": {},
   "source": [
    "# 差异表/使用-\n"
   ]
  },
  {
   "cell_type": "code",
   "execution_count": 3,
   "metadata": {
    "collapsed": false
   },
   "outputs": [
    {
     "name": "stdout",
     "output_type": "stream",
     "text": [
      "Overwriting /tmp/tmp.pro\n"
     ]
    }
   ],
   "source": [
    "%%writefile /tmp/tmp.pro\n",
    "\n",
    "noun([dog|X]-X).\n",
    "noun([cat|X]-X).\n",
    "noun([mouse|X]-X).\n",
    "\n",
    "verb([ate|X]-X).\n",
    "verb([chases|X]-X).\n",
    "\n",
    "adjective([big|X]-X).\n",
    "adjective([brown|X]-X).\n",
    "adjective([lazy|X]-X).\n",
    "\n",
    "determiner([the|X]-X).\n",
    "determiner([a|X]-X).\n",
    "\n",
    "\n",
    "\n",
    "nounphrase(NP-X):-\n",
    "  determiner(NP-S1),\n",
    "  nounexpression(S1-X).\n",
    "nounphrase(NP-X):-\n",
    "  nounexpression(NP-X).\n",
    "\n",
    "nounexpression(NE-X):-\n",
    "  noun(NE-X).\n",
    "nounexpression(NE-X):-\n",
    "  adjective(NE-S1),\n",
    "  nounexpression(S1-X).\n",
    "\n",
    "\n",
    "verbphrase(VP-X):-\n",
    "  verb(VP-S1),\n",
    "  nounphrase(S1-X).\n",
    "\n",
    "sentence(S) :-\n",
    "  nounphrase(S-S1),\n",
    "  verbphrase(S1-[]).\n"
   ]
  },
  {
   "cell_type": "code",
   "execution_count": 4,
   "metadata": {
    "collapsed": false
   },
   "outputs": [],
   "source": [
    "%%bash\n",
    "swipl -s /tmp/tmp.pro  -g 'sentence([the,lazy,mouse,ate,a,dog])' -t halt"
   ]
  },
  {
   "cell_type": "markdown",
   "metadata": {},
   "source": [
    "# 差异表/使用,"
   ]
  },
  {
   "cell_type": "code",
   "execution_count": 5,
   "metadata": {
    "collapsed": false
   },
   "outputs": [
    {
     "name": "stdout",
     "output_type": "stream",
     "text": [
      "Overwriting /tmp/tmp.pro\n"
     ]
    }
   ],
   "source": [
    "%%writefile /tmp/tmp.pro\n",
    "\n",
    "noun([dog|X],X).\n",
    "noun([cat|X],X).\n",
    "noun([mouse|X],X).\n",
    "\n",
    "verb([ate|X],X).\n",
    "verb([chases|X],X).\n",
    "\n",
    "adjective([big|X],X).\n",
    "adjective([brown|X],X).\n",
    "adjective([lazy|X],X).\n",
    "\n",
    "determiner([the|X],X).\n",
    "determiner([a|X],X).\n",
    "\n",
    "\n",
    "\n",
    "nounphrase(NP,X):-\n",
    "  determiner(NP,S1),\n",
    "  nounexpression(S1,X).\n",
    "nounphrase(NP,X):-\n",
    "  nounexpression(NP,X).\n",
    "\n",
    "nounexpression(NE,X):-\n",
    "  noun(NE,X).\n",
    "nounexpression(NE,X):-\n",
    "  adjective(NE,S1),\n",
    "  nounexpression(S1,X).\n",
    "\n",
    "\n",
    "verbphrase(VP,X):-\n",
    "  verb(VP,S1),\n",
    "  nounphrase(S1,X).\n",
    "\n",
    "sentence(S) :-\n",
    "  nounphrase(S,S1),\n",
    "  verbphrase(S1,[]).\n"
   ]
  },
  {
   "cell_type": "code",
   "execution_count": 6,
   "metadata": {
    "collapsed": false
   },
   "outputs": [],
   "source": [
    "%%bash\n",
    "swipl -s /tmp/tmp.pro  -g 'sentence([the,lazy,mouse,ate,a,dog])' -t halt"
   ]
  },
  {
   "cell_type": "markdown",
   "metadata": {},
   "source": [
    "# 差异表/使用&"
   ]
  },
  {
   "cell_type": "code",
   "execution_count": 5,
   "metadata": {
    "collapsed": false
   },
   "outputs": [
    {
     "name": "stdout",
     "output_type": "stream",
     "text": [
      "Overwriting /tmp/tmp.pro\n"
     ]
    }
   ],
   "source": [
    "%%writefile /tmp/tmp.pro\n",
    "\n",
    "noun(difftable([dog|X],X)).\n",
    "noun(difftable([cat|X],X)).\n",
    "noun(difftable([mouse|X],X)).\n",
    "\n",
    "verb(difftable([ate|X],X)).\n",
    "verb(difftable([chases|X],X)).\n",
    "\n",
    "adjective(difftable([big|X],X)).\n",
    "adjective(difftable([brown|X],X)).\n",
    "adjective(difftable([lazy|X],X)).\n",
    "\n",
    "determiner(difftable([the|X],X)).\n",
    "determiner(difftable([a|X],X)).\n",
    "\n",
    "\n",
    "\n",
    "nounphrase(difftable(NP,X):-\n",
    "  determiner(difftable(NP,S1)),\n",
    "  nounexpression(difftable(S1,X)).\n",
    "nounphrase(difftable(NP,X):-\n",
    "  nounexpression(difftable(NP,X)).\n",
    "\n",
    "nounexpression(difftable(NE,X):-\n",
    "  noun(difftable(NE,X)).\n",
    "nounexpression(difftable(NE,X):-\n",
    "  adjective(difftable(NE,S1)),\n",
    "  nounexpression(difftable(S1,X)).\n",
    "\n",
    "\n",
    "verbphrase(difftable(VP,X):-\n",
    "  verb(difftable(VP,S1)),\n",
    "  nounphrase(difftable(S1,X)).\n",
    "\n",
    "sentence(difftable(S) :-\n",
    "  nounphrase(difftable(S,S1)),\n",
    "  verbphrase(difftable(S1,[])).\n"
   ]
  },
  {
   "cell_type": "code",
   "execution_count": 6,
   "metadata": {
    "collapsed": false
   },
   "outputs": [],
   "source": [
    "%%bash\n",
    "swipl -s /tmp/tmp.pro  -g 'sentence([the,lazy,mouse,ate,a,dog])' -t halt"
   ]
  }
 ],
 "metadata": {
  "kernelspec": {
   "display_name": "Python 3",
   "language": "python",
   "name": "python3"
  },
  "language_info": {
   "codemirror_mode": {
    "name": "ipython",
    "version": 3
   },
   "file_extension": ".py",
   "mimetype": "text/x-python",
   "name": "python",
   "nbconvert_exporter": "python",
   "pygments_lexer": "ipython3",
   "version": "3.6.0"
  }
 },
 "nbformat": 4,
 "nbformat_minor": 2
}
