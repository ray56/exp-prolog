{
 "cells": [
  {
   "cell_type": "code",
   "execution_count": 5,
   "metadata": {
    "collapsed": false
   },
   "outputs": [
    {
     "name": "stdout",
     "output_type": "stream",
     "text": [
      "SWI-Prolog version 7.4.0-rc2 for amd64\r\n"
     ]
    }
   ],
   "source": [
    "! swipl --version"
   ]
  },
  {
   "cell_type": "markdown",
   "metadata": {},
   "source": [
    "# 排序"
   ]
  },
  {
   "cell_type": "markdown",
   "metadata": {},
   "source": [
    "简洁排序"
   ]
  },
  {
   "cell_type": "code",
   "execution_count": 12,
   "metadata": {
    "collapsed": false
   },
   "outputs": [
    {
     "name": "stdout",
     "output_type": "stream",
     "text": [
      "Overwriting /tmp/sort.pro\n"
     ]
    }
   ],
   "source": [
    "%%writefile /tmp/sort.pro\n",
    "\n",
    "/* sortcsj.pl    原始參考：Computer Science  J. Glenn Brookshear   */\n",
    "/* sortcsj()中的第二個引數帶有排序好的結果　*/\n",
    "/* 僅為示範，若為gprolog使用者則用內建sort等較佳 */\n",
    "/* 在gprolog下之編譯例：gplc --min-size sortcsj.pl　*/\n",
    "/*   執行 sortcsj 後會出現排序結果 [2,9,18,18,25,33,66,77] */\n",
    "\n",
    "q:- L=[33,18,2,77,18,66,9,25], (sortcsj(L,P), write(P), nl). \n",
    "\n",
    "sortcsj(L,S) :-  permutation(L,S), ordered(S).\t/* L為原list, S為排序好的list, 此為permutation關係(built-in) */\n",
    "\n",
    "ordered([]).\t\t\t/* 表empty list視為排序好的list */\n",
    "ordered([_|[]]).\t\t\t/* 只有一元素之list視為排序好的list */\n",
    "ordered([A|[B|T]]) :- A =< B, ordered([B|T]).\t/* 此规则約束所謂的排序好是指前項元素小於或等於後一項元素 */\n",
    "\n",
    ":- initialization(q).\t\t/* 啟動q處goals */"
   ]
  },
  {
   "cell_type": "code",
   "execution_count": 13,
   "metadata": {
    "collapsed": false
   },
   "outputs": [
    {
     "name": "stdout",
     "output_type": "stream",
     "text": [
      "[2,9,18,18,25,33,66,77]\n",
      "\n"
     ]
    }
   ],
   "source": [
    "%%bash\n",
    "swipl -q -s /tmp/sort.pro"
   ]
  },
  {
   "cell_type": "markdown",
   "metadata": {},
   "source": [
    "快排序"
   ]
  },
  {
   "cell_type": "code",
   "execution_count": 14,
   "metadata": {
    "collapsed": false
   },
   "outputs": [
    {
     "name": "stdout",
     "output_type": "stream",
     "text": [
      "Overwriting /tmp/sort.pro\n"
     ]
    }
   ],
   "source": [
    "%%writefile /tmp/sort.pro\n",
    "\n",
    "/* quicksort2.pl    原始來源：http://en.wikipedia.org/wiki/Prolog   */\n",
    "/* quicksort()中的第二個引數帶有排序好的結果　*/\n",
    "/* 僅為示範，若為gprolog使用者則用內建sort等較佳 */\n",
    "/* 在gprolog下之編譯例：gplc --min-size quicksort2.pl　*/\n",
    "/*   執行 quicksort2 後會出現排序結果 [2,9,18,18,25,33,66,77] */\n",
    "\n",
    "q:- L=[33,18,2,77,66,18,9,25], last(P,_), (quicksort(L,P,_), write(P), nl).    /* 加入last/2會在印P時沒複合項 */\n",
    "\n",
    "partition([], _, [], []).\t\t\t/* 此行表空集亦視為分割（分割成空集與空集）*/\n",
    "partition([X|Xs], Pivot, Smalls, Bigs) :-\t/* 原list分成Smalls與Bigs; 此规则保證Smalls集<Pivot且Bigs集>=Pivot */\n",
    "    (   X @< Pivot ->\n",
    "        Smalls = [X|Rest],\n",
    "        partition(Xs, Pivot, Rest, Bigs)\n",
    "    ;   Bigs = [X|Rest],\n",
    "        partition(Xs, Pivot, Smalls, Rest)\n",
    "    ).\n",
    " \n",
    "quicksort([])     --> [].\t\t\t/* 表empty list視為排序好的list */\n",
    "quicksort([X|Xs]) -->\t\t\t/* 此行相當於quicksort([X|Xs],Start,End) :-  此规则讓Start為sorted list */\n",
    "    { partition(Xs, X, Smaller, Bigger) },\t/* 由上行最左端元素為 Pivot */\n",
    "    quicksort(Smaller), [X], quicksort(Bigger).\t/* 此行相當於\tquicksort(Smaller,Start,A), A=[X|B], quicksort(Bigger,B,End).  */\n",
    ":- initialization(q).\t\t/* 啟動q處goals */"
   ]
  },
  {
   "cell_type": "code",
   "execution_count": 13,
   "metadata": {
    "collapsed": false
   },
   "outputs": [
    {
     "name": "stdout",
     "output_type": "stream",
     "text": [
      "[2,9,18,18,25,33,66,77]\n",
      "\n"
     ]
    }
   ],
   "source": [
    "%%bash\n",
    "swipl -q -s /tmp/sort.pro"
   ]
  },
  {
   "cell_type": "markdown",
   "metadata": {},
   "source": [
    "# 罗素悖论"
   ]
  },
  {
   "cell_type": "code",
   "execution_count": 18,
   "metadata": {
    "collapsed": false
   },
   "outputs": [
    {
     "name": "stdout",
     "output_type": "stream",
     "text": [
      "Writing /tmp/overflow.pro\n"
     ]
    }
   ],
   "source": [
    "%%writefile /tmp/overflow.pro\n",
    "\n",
    "/* tstpx.pl */\n",
    "/* 羅素佯謬(羅素悖論)（皇帝新腦 羅杰.彭羅斯 p.120）會導致不停機(使得gprolog產生 stack overflow) */\n",
    "/* 在gprolog下之編譯例：gplc --min-size tstpx.pl　*/\n",
    "\n",
    "q:- px(_).              /* 找尋任何可使 px() 规则成立的方式 */\n",
    "\n",
    "px(1) :- \\+ px(1).      /* 規定此规则不成立。 i.e. 此规则為假時此规则才為真 (佯謬）*/\n",
    "\n",
    ":- initialization(q).           /* 啟動q處goal */"
   ]
  },
  {
   "cell_type": "code",
   "execution_count": 19,
   "metadata": {
    "collapsed": false
   },
   "outputs": [
    {
     "name": "stdout",
     "output_type": "stream",
     "text": [
      "\n"
     ]
    },
    {
     "name": "stderr",
     "output_type": "stream",
     "text": [
      "ERROR: /tmp/overflow.pro:10: Initialization goal raised exception:\n",
      "ERROR: Out of local stack\n"
     ]
    }
   ],
   "source": [
    "%%bash\n",
    "swipl -q -s /tmp/overflow.pro"
   ]
  },
  {
   "cell_type": "markdown",
   "metadata": {},
   "source": [
    "# trace"
   ]
  },
  {
   "cell_type": "code",
   "execution_count": null,
   "metadata": {
    "collapsed": true
   },
   "outputs": [],
   "source": [
    "%%writefile /tmp/tmp.pro\n",
    "\n",
    "person(tom).\n",
    "person(jerry).\n",
    "\n",
    "knowledge('三角形内角和为180').\n",
    "knowledge('勾股定理').\n",
    "\n",
    "learned(tom, '勾股定理').\n",
    "\n",
    "\n",
    "\n",
    "\n",
    "未掌握(P, K) :-  曾学过(P, K), 曾考过(P, T), covered(T, K)."
   ]
  },
  {
   "cell_type": "code",
   "execution_count": null,
   "metadata": {
    "collapsed": true
   },
   "outputs": [],
   "source": [
    "%%bash\n",
    "swipl -s /tmp/tmp.pro  -g ' factoriel(3,X)' -t halt"
   ]
  }
 ],
 "metadata": {
  "kernelspec": {
   "display_name": "Python 3",
   "language": "python",
   "name": "python3"
  },
  "language_info": {
   "codemirror_mode": {
    "name": "ipython",
    "version": 3
   },
   "file_extension": ".py",
   "mimetype": "text/x-python",
   "name": "python",
   "nbconvert_exporter": "python",
   "pygments_lexer": "ipython3",
   "version": "3.6.0"
  }
 },
 "nbformat": 4,
 "nbformat_minor": 2
}
