{
 "cells": [
  {
   "cell_type": "markdown",
   "metadata": {},
   "source": [
    "# 阶乘"
   ]
  },
  {
   "cell_type": "code",
   "execution_count": null,
   "metadata": {
    "collapsed": true
   },
   "outputs": [],
   "source": [
    "%jc(N,X) :- N1 is N - 1, jc(N1,X1), X  is X1 * N.\n",
    "%jc(1, 1).\n",
    "%jc(0, 1)."
   ]
  },
  {
   "cell_type": "code",
   "execution_count": 114,
   "metadata": {
    "collapsed": false
   },
   "outputs": [
    {
     "name": "stdout",
     "output_type": "stream",
     "text": [
      "Overwriting /tmp/tmp.pro\n"
     ]
    }
   ],
   "source": [
    "%%writefile /tmp/tmp.pro\n",
    "\n",
    "factorial(0,X):- X is 1.\n",
    "factorial(1,X):- X is 1.\n",
    "factorial(N,M):- N>0, N1 is N-1, factorial(N1,M1), M is N * M1, !.\n",
    "    \n"
   ]
  },
  {
   "cell_type": "code",
   "execution_count": 1,
   "metadata": {
    "collapsed": false
   },
   "outputs": [
    {
     "name": "stdout",
     "output_type": "stream",
     "text": [
      "Overwriting /tmp/tmp.pro\n"
     ]
    }
   ],
   "source": [
    "%%writefile /tmp/tmp.pro\n",
    "\n",
    ":- use_module(library(clpfd)).\n",
    "    \n",
    "    \n",
    "factoriel(0,A) :- A = 1 , ! .\n",
    "    \n",
    "factoriel(X,Y) :- X1 is X - 1, factoriel(X1,Y1) ,  Y is Y1 * X .\n",
    "%factoriel(X,Y) :- X1 is X - 1, factoriel(X1,Y1) ,  Y1 is Y / N  .  % 千万别用除法\n",
    "%factoriel(X,Y) :- X1 is X - 1, factoriel(X1,Y1) ,  Y1 * N #= Y   .  % 可是使用clpfd中的#=算符\n",
    "    \n",
    "f(X):-  factoriel(3,X), write(X).\n",
    "    \n",
    "main(N):- factoriel(N,X), write(X)."
   ]
  },
  {
   "cell_type": "code",
   "execution_count": 2,
   "metadata": {
    "collapsed": false
   },
   "outputs": [],
   "source": [
    "%%bash\n",
    "swipl -s /tmp/tmp.pro  -g ' factoriel(3,X)' -t halt"
   ]
  }
 ],
 "metadata": {
  "kernelspec": {
   "display_name": "Python 3",
   "language": "python",
   "name": "python3"
  },
  "language_info": {
   "codemirror_mode": {
    "name": "ipython",
    "version": 3
   },
   "file_extension": ".py",
   "mimetype": "text/x-python",
   "name": "python",
   "nbconvert_exporter": "python",
   "pygments_lexer": "ipython3",
   "version": "3.6.0"
  }
 },
 "nbformat": 4,
 "nbformat_minor": 2
}
