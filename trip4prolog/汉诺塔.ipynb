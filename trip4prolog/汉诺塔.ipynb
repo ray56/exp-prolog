{
 "cells": [
  {
   "cell_type": "code",
   "execution_count": 5,
   "metadata": {
    "collapsed": false
   },
   "outputs": [
    {
     "name": "stdout",
     "output_type": "stream",
     "text": [
      "SWI-Prolog version 7.4.0-rc2 for amd64\r\n"
     ]
    }
   ],
   "source": [
    "! swipl --version"
   ]
  },
  {
   "cell_type": "markdown",
   "metadata": {},
   "source": [
    "* <a href=\"https://www.wikiwand.com/zh-hans/%E6%B1%89%E8%AF%BA%E5%A1%94\">汉诺塔 - Wikiwand</a>\n",
    "* <a href=\"https://www.wikiwand.com/en/Tower_of_Hanoi\">Tower of Hanoi - Wikiwand</a>\n",
    "\n",
    "http://hyry.dip.jp/tech/book/page/prolog/simple_hanoi.html"
   ]
  },
  {
   "cell_type": "markdown",
   "metadata": {},
   "source": [
    "# 这是纯演示动作的汉诺塔"
   ]
  },
  {
   "cell_type": "code",
   "execution_count": 94,
   "metadata": {
    "collapsed": false
   },
   "outputs": [
    {
     "name": "stdout",
     "output_type": "stream",
     "text": [
      "Writing /tmp/hanoi_1.pro\n"
     ]
    }
   ],
   "source": [
    "%%writefile /tmp/hanoi_1.pro\n",
    "\n",
    "hanoi(N) :- \n",
    "    move(N,left,middle,right).\n",
    "\n",
    "move(1,Src,_,Dst) :- \n",
    "    step(Src,Dst), \n",
    "    !.\n",
    "\n",
    "move(N,Src,Tmp,Dst) :- \n",
    "    N1 is N-1,\n",
    "    move(N1,Src,Dst,Tmp),\n",
    "    step(Src,Dst),\n",
    "    move(N1,Tmp,Src,Dst).\n",
    "\n",
    "step(Loc1, Loc2) :-\n",
    "    nl, \n",
    "    write('Move a disk from '-Loc1-' to '-Loc2)."
   ]
  },
  {
   "cell_type": "code",
   "execution_count": 198,
   "metadata": {
    "collapsed": false
   },
   "outputs": [
    {
     "name": "stdout",
     "output_type": "stream",
     "text": [
      "\n",
      "Move a disk from -a- to -c\n",
      "Move a disk from -a- to -b\n",
      "Move a disk from -c- to -b\n",
      "Move a disk from -a- to -c\n",
      "Move a disk from -b- to -a\n",
      "Move a disk from -b- to -c\n",
      "Move a disk from -a- to -c"
     ]
    },
    {
     "name": "stderr",
     "output_type": "stream",
     "text": [
      "Welcome to SWI-Prolog (threaded, 64 bits, version 7.4.0-rc2)\n",
      "SWI-Prolog comes with ABSOLUTELY NO WARRANTY. This is free software.\n",
      "Please run ?- license. for legal details.\n",
      "\n",
      "For online help and background, visit http://www.swi-prolog.org\n",
      "For built-in help, use ?- help(Topic). or ?- apropos(Word).\n",
      "\n",
      "\n",
      "% halt\n"
     ]
    }
   ],
   "source": [
    "%%bash\n",
    "swipl -s /tmp/hanoi_1.pro -t 'move(3,a,b,c)'"
   ]
  },
  {
   "cell_type": "code",
   "execution_count": 95,
   "metadata": {
    "collapsed": false
   },
   "outputs": [
    {
     "name": "stdout",
     "output_type": "stream",
     "text": [
      "\n",
      "Move a disk from -left- to -right\n",
      "Move a disk from -left- to -middle\n",
      "Move a disk from -right- to -middle\n",
      "Move a disk from -left- to -right\n",
      "Move a disk from -middle- to -left\n",
      "Move a disk from -middle- to -right\n",
      "Move a disk from -left- to -right"
     ]
    },
    {
     "name": "stderr",
     "output_type": "stream",
     "text": [
      "Welcome to SWI-Prolog (threaded, 64 bits, version 7.4.0-rc2)\n",
      "SWI-Prolog comes with ABSOLUTELY NO WARRANTY. This is free software.\n",
      "Please run ?- license. for legal details.\n",
      "\n",
      "For online help and background, visit http://www.swi-prolog.org\n",
      "For built-in help, use ?- help(Topic). or ?- apropos(Word).\n",
      "\n",
      "\n",
      "% halt\n"
     ]
    }
   ],
   "source": [
    "%%bash\n",
    "swipl -s /tmp/hanoi_1.pro -t 'hanoi(3)'"
   ]
  },
  {
   "cell_type": "markdown",
   "metadata": {},
   "source": [
    "# 这是将中间状态也打印出来的汉诺塔\n",
    "\n",
    "* S,T,D表示源，临时，目标柱子，其值是left,middle,right\n",
    "* SB，TB，DB表示移动中保持不变的盘子\n",
    "* SU表示当前小目标要从S移到D的盘子\n",
    "\n",
    "* SU = [SUh] + SUT = SUH + [SUt] 表示两种 分解方式\n"
   ]
  },
  {
   "cell_type": "code",
   "execution_count": 47,
   "metadata": {
    "collapsed": false
   },
   "outputs": [
    {
     "name": "stdout",
     "output_type": "stream",
     "text": [
      "Overwriting /tmp/hanoi_2.pro\n"
     ]
    }
   ],
   "source": [
    "%%writefile /tmp/hanoi_2.pro\n",
    "\n",
    "hanoi(Disk) :- \n",
    "    move(u('L',Disk),b('L',[]),b('M',[]),b('R',[])).\n",
    "\n",
    "move( u(S,[X]), b(S, SB), b(T, TB), b(D,DB) ) :-\n",
    "    nl,\n",
    "    write(S-D-X-b(S,SB)-b(T,TB)-b(D,[X|DB])).\n",
    "    \n",
    "move( u(S,SU), b(S, SB), b(T, TB), b(D,DB) ) :- \n",
    "    last(SU,SUt), append(SUH,[SUt],SU),\n",
    "    append( SUH, TB, TB_ ),\n",
    "    move( u(S,SUH),   b(S,[SUt|SB]), b(D,DB),  b(T,TB) ),   \n",
    "    move( u(S,[SUt]), b(S,SB),       b(T,TB_), b(D,DB) ),\n",
    "    move( u(T,SUH),   b(T,TB),       b(S,SB),  b(D,[SUt|DB]) )."
   ]
  },
  {
   "cell_type": "code",
   "execution_count": 48,
   "metadata": {
    "collapsed": false
   },
   "outputs": [
    {
     "name": "stdout",
     "output_type": "stream",
     "text": [
      "\n",
      "L-R-1-b(L,[2,3])-b(M,[])-b(R,[1])\n",
      "L-M-2-b(L,[3])-b(R,[1])-b(M,[2])\n",
      "R-M-1-b(R,[])-b(L,[3])-b(M,[1,2])\n",
      "L-R-3-b(L,[])-b(M,[1,2])-b(R,[3])\n",
      "M-L-1-b(M,[2])-b(R,[3])-b(L,[1])\n",
      "M-R-2-b(M,[])-b(L,[1])-b(R,[2,3])\n",
      "L-R-1-b(L,[])-b(M,[])-b(R,[1,2,3])"
     ]
    },
    {
     "name": "stderr",
     "output_type": "stream",
     "text": [
      "Welcome to SWI-Prolog (threaded, 64 bits, version 7.4.0-rc2)\n",
      "SWI-Prolog comes with ABSOLUTELY NO WARRANTY. This is free software.\n",
      "Please run ?- license. for legal details.\n",
      "\n",
      "For online help and background, visit http://www.swi-prolog.org\n",
      "For built-in help, use ?- help(Topic). or ?- apropos(Word).\n",
      "\n",
      "\n",
      "% halt\n"
     ]
    }
   ],
   "source": [
    "%%bash\n",
    "swipl -s /tmp/hanoi_2.pro -t 'hanoi([1,2,3])'"
   ]
  },
  {
   "cell_type": "code",
   "execution_count": 56,
   "metadata": {
    "collapsed": false
   },
   "outputs": [
    {
     "name": "stdout",
     "output_type": "stream",
     "text": [
      "Overwriting /tmp/hanoi_3.pro\n"
     ]
    }
   ],
   "source": [
    "%%writefile /tmp/hanoi_3.pro\n",
    "\n",
    "hanoi(Disk) :- \n",
    "    move(u('L',Disk),b('L',[]),b('M',[]),b('R',[])).\n",
    "\n",
    "move( u(S,[X]), b(S, SB), b(T, TB), b(D,DB) ) :-\n",
    "    nl,\n",
    "    outp(u(S,[X]),b(S,SB),b(T,TB),b(D,[X|DB])).\n",
    "    \n",
    "outp( u(S,[X]), b('L', LB), b('M', MB), b('R',RB) ) :-\n",
    "    S = 'L', D = 'R', write(S-D-X-LB-MB-RB).\n",
    "outp( u(S,[X]), b('L', LB), b('R', RB), b('M',MB) ) :-\n",
    "    S = 'L', D = 'M', write(S-D-X-LB-MB-RB).\n",
    "outp( u(S,[X]), b('M', MB), b('L', LB), b('R',RB) ) :-\n",
    "    S = 'M', D = 'R', write(S-D-X-LB-MB-RB).\n",
    "outp( u(S,[X]), b('M', MB), b('R', RB), b('L',LB) ) :-\n",
    "    S = 'M', D = 'L', write(S-D-X-LB-MB-RB).\n",
    "outp( u(S,[X]), b('R', RB), b('L', LB), b('M',MB) ) :-\n",
    "    S = 'R', D = 'M', write(S-D-X-LB-MB-RB).\n",
    "outp( u(S,[X]), b('R', RB), b('M', MB), b('L',LB) ) :-\n",
    "    S = 'R', D = 'L', write(S-D-X-LB-MB-RB).\n",
    "    \n",
    "move( u(S,SU), b(S, SB), b(T, TB), b(D,DB) ) :- \n",
    "    last(SU,SUt), append(SUH,[SUt],SU),\n",
    "    append( SUH, TB, TB_ ),\n",
    "    move( u(S,SUH),   b(S,[SUt|SB]), b(D,DB),  b(T,TB) ),   \n",
    "    move( u(S,[SUt]), b(S,SB),       b(T,TB_), b(D,DB) ),\n",
    "    move( u(T,SUH),   b(T,TB),       b(S,SB),  b(D,[SUt|DB]) )."
   ]
  },
  {
   "cell_type": "code",
   "execution_count": 59,
   "metadata": {
    "collapsed": false
   },
   "outputs": [
    {
     "name": "stdout",
     "output_type": "stream",
     "text": [
      "\n",
      "L-M-1-[2,3,4]-[1]-[]\n",
      "L-R-2-[3,4]-[1]-[2]\n",
      "M-R-1-[3,4]-[]-[1,2]\n",
      "L-M-3-[4]-[3]-[1,2]\n",
      "R-L-1-[1,4]-[3]-[2]\n",
      "R-M-2-[1,4]-[2,3]-[]\n",
      "L-M-1-[4]-[1,2,3]-[]\n",
      "L-R-4-[]-[1,2,3]-[4]\n",
      "M-R-1-[]-[2,3]-[1,4]\n",
      "M-L-2-[2]-[3]-[1,4]\n",
      "R-L-1-[1,2]-[3]-[4]\n",
      "M-R-3-[1,2]-[]-[3,4]\n",
      "L-M-1-[2]-[1]-[3,4]\n",
      "L-R-2-[]-[1]-[2,3,4]\n",
      "M-R-1-[]-[]-[1,2,3,4]"
     ]
    },
    {
     "name": "stderr",
     "output_type": "stream",
     "text": [
      "Warning: /tmp/hanoi_3.pro:22:\n",
      "\tClauses of move/4 are not together in the source-file\n",
      "\t  Earlier definition at /tmp/hanoi_3.pro:5\n",
      "\t  Current predicate: outp/4\n",
      "\t  Use :- discontiguous move/4. to suppress this message\n",
      "Welcome to SWI-Prolog (threaded, 64 bits, version 7.4.0-rc2)\n",
      "SWI-Prolog comes with ABSOLUTELY NO WARRANTY. This is free software.\n",
      "Please run ?- license. for legal details.\n",
      "\n",
      "For online help and background, visit http://www.swi-prolog.org\n",
      "For built-in help, use ?- help(Topic). or ?- apropos(Word).\n",
      "\n",
      "\n",
      "% halt\n"
     ]
    }
   ],
   "source": [
    "%%bash\n",
    "swipl -s /tmp/hanoi_3.pro -t 'hanoi([1,2,3,4])'"
   ]
  }
 ],
 "metadata": {
  "kernelspec": {
   "display_name": "Python 3",
   "language": "python",
   "name": "python3"
  },
  "language_info": {
   "codemirror_mode": {
    "name": "ipython",
    "version": 3
   },
   "file_extension": ".py",
   "mimetype": "text/x-python",
   "name": "python",
   "nbconvert_exporter": "python",
   "pygments_lexer": "ipython3",
   "version": "3.6.0"
  }
 },
 "nbformat": 4,
 "nbformat_minor": 2
}
